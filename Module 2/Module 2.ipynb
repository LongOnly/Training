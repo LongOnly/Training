{
 "cells": [
  {
   "cell_type": "markdown",
   "metadata": {},
   "source": [
    "# Chapter 2 - Data & Control Structures"
   ]
  },
  {
   "cell_type": "markdown",
   "metadata": {},
   "source": [
    "## Data Structures"
   ]
  },
  {
   "cell_type": "markdown",
   "metadata": {},
   "source": [
    "### Tuples"
   ]
  },
  {
   "cell_type": "code",
   "execution_count": 1,
   "metadata": {},
   "outputs": [],
   "source": [
    "age = (20, 30, 'Unknown', 40) # Tuples are immutable"
   ]
  },
  {
   "cell_type": "code",
   "execution_count": 2,
   "metadata": {},
   "outputs": [
    {
     "data": {
      "text/plain": [
       "tuple"
      ]
     },
     "execution_count": 2,
     "metadata": {},
     "output_type": "execute_result"
    }
   ],
   "source": [
    "type(age)"
   ]
  },
  {
   "cell_type": "code",
   "execution_count": 3,
   "metadata": {},
   "outputs": [
    {
     "data": {
      "text/plain": [
       "20"
      ]
     },
     "execution_count": 3,
     "metadata": {},
     "output_type": "execute_result"
    }
   ],
   "source": [
    "age[0]"
   ]
  },
  {
   "cell_type": "code",
   "execution_count": 4,
   "metadata": {},
   "outputs": [
    {
     "data": {
      "text/plain": [
       "30"
      ]
     },
     "execution_count": 4,
     "metadata": {},
     "output_type": "execute_result"
    }
   ],
   "source": [
    "age[1]"
   ]
  },
  {
   "cell_type": "code",
   "execution_count": 5,
   "metadata": {},
   "outputs": [
    {
     "data": {
      "text/plain": [
       "int"
      ]
     },
     "execution_count": 5,
     "metadata": {},
     "output_type": "execute_result"
    }
   ],
   "source": [
    "type(age[0])"
   ]
  },
  {
   "cell_type": "code",
   "execution_count": 6,
   "metadata": {},
   "outputs": [
    {
     "data": {
      "text/plain": [
       "'Unknown'"
      ]
     },
     "execution_count": 6,
     "metadata": {},
     "output_type": "execute_result"
    }
   ],
   "source": [
    "age[2]"
   ]
  },
  {
   "cell_type": "code",
   "execution_count": 7,
   "metadata": {},
   "outputs": [
    {
     "data": {
      "text/plain": [
       "str"
      ]
     },
     "execution_count": 7,
     "metadata": {},
     "output_type": "execute_result"
    }
   ],
   "source": [
    "type(age[2])"
   ]
  },
  {
   "cell_type": "code",
   "execution_count": 8,
   "metadata": {},
   "outputs": [
    {
     "data": {
      "text/plain": [
       "1"
      ]
     },
     "execution_count": 8,
     "metadata": {},
     "output_type": "execute_result"
    }
   ],
   "source": [
    "age.count('Unknown')"
   ]
  },
  {
   "cell_type": "code",
   "execution_count": 9,
   "metadata": {},
   "outputs": [
    {
     "data": {
      "text/plain": [
       "3"
      ]
     },
     "execution_count": 9,
     "metadata": {},
     "output_type": "execute_result"
    }
   ],
   "source": [
    "age.index(40)"
   ]
  },
  {
   "cell_type": "markdown",
   "metadata": {},
   "source": [
    "### Lists"
   ]
  },
  {
   "cell_type": "code",
   "execution_count": 10,
   "metadata": {},
   "outputs": [
    {
     "data": {
      "text/plain": [
       "list"
      ]
     },
     "execution_count": 10,
     "metadata": {},
     "output_type": "execute_result"
    }
   ],
   "source": [
    "dogs = ['Bulldog','Yorkshire Terrier'] # lists are mutable.\n",
    "type(dogs)"
   ]
  },
  {
   "cell_type": "code",
   "execution_count": 11,
   "metadata": {},
   "outputs": [
    {
     "data": {
      "text/plain": [
       "['Bulldog', 'Yorkshire Terrier', 'Chihuahua']"
      ]
     },
     "execution_count": 11,
     "metadata": {},
     "output_type": "execute_result"
    }
   ],
   "source": [
    "dogs.append('Chihuahua') # Add a element (a string) to the list\n",
    "dogs"
   ]
  },
  {
   "cell_type": "code",
   "execution_count": 12,
   "metadata": {},
   "outputs": [
    {
     "data": {
      "text/plain": [
       "['Bulldog', 'Yorkshire Terrier', 'Chihuahua', ['Beagle', 'Poodle']]"
      ]
     },
     "execution_count": 12,
     "metadata": {},
     "output_type": "execute_result"
    }
   ],
   "source": [
    "dogs.append(['Beagle', 'Poodle']) # Add a list to the existing list\n",
    "dogs"
   ]
  },
  {
   "cell_type": "code",
   "execution_count": 13,
   "metadata": {},
   "outputs": [
    {
     "data": {
      "text/plain": [
       "'Poodle'"
      ]
     },
     "execution_count": 13,
     "metadata": {},
     "output_type": "execute_result"
    }
   ],
   "source": [
    "dogs[3][1] # The second element inside the list of the main list"
   ]
  },
  {
   "cell_type": "code",
   "execution_count": 14,
   "metadata": {},
   "outputs": [
    {
     "data": {
      "text/plain": [
       "['Bulldog',\n",
       " 'Yorkshire Terrier',\n",
       " 'Chihuahua',\n",
       " ['Beagle', 'Poodle'],\n",
       " 'Chow Chow',\n",
       " 'Setter']"
      ]
     },
     "execution_count": 14,
     "metadata": {},
     "output_type": "execute_result"
    }
   ],
   "source": [
    "dogs.extend(['Chow Chow', 'Setter']) # Add 2 elements to the list\n",
    "dogs"
   ]
  },
  {
   "cell_type": "code",
   "execution_count": 15,
   "metadata": {},
   "outputs": [
    {
     "data": {
      "text/plain": [
       "['Golden Retriever',\n",
       " 'Bulldog',\n",
       " 'Yorkshire Terrier',\n",
       " 'Chihuahua',\n",
       " ['Beagle', 'Poodle'],\n",
       " 'Chow Chow',\n",
       " 'Setter']"
      ]
     },
     "execution_count": 15,
     "metadata": {},
     "output_type": "execute_result"
    }
   ],
   "source": [
    "dogs.insert(0, 'Golden Retriever') # Add a element to the beginning of the list\n",
    "dogs"
   ]
  },
  {
   "cell_type": "code",
   "execution_count": 16,
   "metadata": {},
   "outputs": [
    {
     "data": {
      "text/plain": [
       "['Bulldog',\n",
       " 'Yorkshire Terrier',\n",
       " 'Chihuahua',\n",
       " ['Beagle', 'Poodle'],\n",
       " 'Chow Chow',\n",
       " 'Setter']"
      ]
     },
     "execution_count": 16,
     "metadata": {},
     "output_type": "execute_result"
    }
   ],
   "source": [
    "dogs.remove('Golden Retriever') # Remove the element 'Golden Retriever'\n",
    "dogs"
   ]
  },
  {
   "cell_type": "code",
   "execution_count": 17,
   "metadata": {},
   "outputs": [
    {
     "data": {
      "text/plain": [
       "['Bulldog',\n",
       " 'Yorkshire Terrier',\n",
       " 'Chihuahua',\n",
       " ['Beagle', 'Poodle'],\n",
       " 'Chow Chow',\n",
       " 'Setter',\n",
       " 'Golden Retriever']"
      ]
     },
     "execution_count": 17,
     "metadata": {},
     "output_type": "execute_result"
    }
   ],
   "source": [
    "dogs.insert(len(dogs), 'Golden Retriever') # Add a element to the end of the list\n",
    "dogs"
   ]
  },
  {
   "cell_type": "code",
   "execution_count": 18,
   "metadata": {},
   "outputs": [
    {
     "data": {
      "text/plain": [
       "['Bulldog',\n",
       " 'Yorkshire Terrier',\n",
       " 'Chihuahua',\n",
       " 'Chow Chow',\n",
       " 'Setter',\n",
       " 'Golden Retriever']"
      ]
     },
     "execution_count": 18,
     "metadata": {},
     "output_type": "execute_result"
    }
   ],
   "source": [
    "dogs.remove(dogs[3]) # Remove the 4 element (which is a list)\n",
    "dogs"
   ]
  },
  {
   "cell_type": "code",
   "execution_count": 19,
   "metadata": {
    "scrolled": true
   },
   "outputs": [
    {
     "data": {
      "text/plain": [
       "['Bulldog', 'Yorkshire Terrier', 'Chihuahua', 'Chow Chow', 'Setter']"
      ]
     },
     "execution_count": 19,
     "metadata": {},
     "output_type": "execute_result"
    }
   ],
   "source": [
    "dogs.remove(dogs[-1]) # Remove the last element\n",
    "dogs"
   ]
  },
  {
   "cell_type": "markdown",
   "metadata": {},
   "source": [
    "## Control Structures"
   ]
  },
  {
   "cell_type": "markdown",
   "metadata": {},
   "source": [
    "### Try Statement"
   ]
  },
  {
   "cell_type": "code",
   "execution_count": 20,
   "metadata": {},
   "outputs": [
    {
     "name": "stdout",
     "output_type": "stream",
     "text": [
      "7\n",
      "This string is a number\n"
     ]
    }
   ],
   "source": [
    "udc = input()\n",
    "\n",
    "try:\n",
    "    float(udc)\n",
    "    print(\"This string is a number\")\n",
    "except:\n",
    "    print(\"Since we can't transform it into a number it's not a number!\")"
   ]
  },
  {
   "cell_type": "markdown",
   "metadata": {},
   "source": [
    "### For Loops"
   ]
  },
  {
   "cell_type": "code",
   "execution_count": 21,
   "metadata": {
    "scrolled": true
   },
   "outputs": [
    {
     "data": {
      "text/plain": [
       "[46200, 54600, 58800, 67200]"
      ]
     },
     "execution_count": 21,
     "metadata": {},
     "output_type": "execute_result"
    }
   ],
   "source": [
    "salaries = ['44k','52k','56k','64k']\n",
    "\n",
    "newsalaries = []\n",
    "\n",
    "for salary in salaries:\n",
    "    salary = int(salary[:-1])*1050 # 5% salary increase\n",
    "    newsalaries.append(salary)\n",
    "\n",
    "newsalaries"
   ]
  },
  {
   "cell_type": "code",
   "execution_count": 22,
   "metadata": {},
   "outputs": [
    {
     "name": "stdout",
     "output_type": "stream",
     "text": [
      "46.2k is on the lower half of the pay range\n",
      "54.6k is on the lower half of the pay range\n",
      "58.8k is on the upper half of the pay range\n",
      "67.2k is on the upper half of the pay range\n"
     ]
    }
   ],
   "source": [
    "half = len(salaries)/2\n",
    "\n",
    "for order, salary in enumerate(newsalaries):\n",
    "    salary = round(salary/1000,1)\n",
    "    if order < half:\n",
    "        print(str(salary)+'k is on the lower half of the pay range')\n",
    "    else:\n",
    "        print(str(salary)+'k is on the upper half of the pay range')"
   ]
  },
  {
   "cell_type": "code",
   "execution_count": 23,
   "metadata": {},
   "outputs": [
    {
     "name": "stdout",
     "output_type": "stream",
     "text": [
      "You've found the Bulldog you wanted! It's dog number 1\n",
      "You've found the Yorkshire Terrier you wanted! It's dog number 2\n"
     ]
    }
   ],
   "source": [
    "DogsIWant = ['Bulldog','Yorkshire Terrier']\n",
    "\n",
    "for number, everydog in enumerate(dogs):\n",
    "    if any(dog in everydog for dog in DogsIWant):\n",
    "        print(\"You've found the \"+everydog+\" you wanted! It's dog number \"+str(number+1))"
   ]
  },
  {
   "cell_type": "markdown",
   "metadata": {},
   "source": [
    "### While Loops"
   ]
  },
  {
   "cell_type": "code",
   "execution_count": 24,
   "metadata": {},
   "outputs": [
    {
     "name": "stdout",
     "output_type": "stream",
     "text": [
      "John finished in 1º place\n",
      "Elton finished in 2º place\n",
      "Jagger finished in 3º place\n",
      "Mick finished in 4º place\n",
      "Mercury finished in 5º place\n",
      "Freddy finished in 6º place\n"
     ]
    }
   ],
   "source": [
    "race = ['John', 'Elton', 'Jagger', 'Mick', 'Mercury', 'Freddy']\n",
    "\n",
    "finished = 0\n",
    "while finished < len(race):\n",
    "    print(race[finished]+' finished in '+str(finished+1)+'º place')\n",
    "    finished += 1"
   ]
  }
 ],
 "metadata": {
  "kernelspec": {
   "display_name": "Python 3",
   "language": "python",
   "name": "python3"
  },
  "language_info": {
   "codemirror_mode": {
    "name": "ipython",
    "version": 3
   },
   "file_extension": ".py",
   "mimetype": "text/x-python",
   "name": "python",
   "nbconvert_exporter": "python",
   "pygments_lexer": "ipython3",
   "version": "3.7.0"
  }
 },
 "nbformat": 4,
 "nbformat_minor": 2
}
