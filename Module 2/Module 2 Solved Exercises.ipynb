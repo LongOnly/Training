{
 "cells": [
  {
   "cell_type": "markdown",
   "metadata": {},
   "source": [
    "# Chapter 2 - Exercises"
   ]
  },
  {
   "cell_type": "markdown",
   "metadata": {},
   "source": [
    "#### 1- Retrieve the last 3 characters of each string in the following list, assign it to a new variable"
   ]
  },
  {
   "cell_type": "code",
   "execution_count": 1,
   "metadata": {},
   "outputs": [],
   "source": [
    "names = ['maria','joão','leonor','francisco','matilde','santiago','ana','diogo']"
   ]
  },
  {
   "cell_type": "code",
   "execution_count": 2,
   "metadata": {},
   "outputs": [
    {
     "data": {
      "text/plain": [
       "['ria', 'oão', 'nor', 'sco', 'lde', 'ago', 'ana', 'ogo']"
      ]
     },
     "execution_count": 2,
     "metadata": {},
     "output_type": "execute_result"
    }
   ],
   "source": [
    "newvar = []\n",
    "\n",
    "for values in names:\n",
    "    newvar.append(values[-3:])\n",
    "\n",
    "newvar"
   ]
  },
  {
   "cell_type": "markdown",
   "metadata": {},
   "source": [
    "#### 2- Print the first 3 elements of the list using a for loop, making each upper case then capitalize it"
   ]
  },
  {
   "cell_type": "code",
   "execution_count": 3,
   "metadata": {},
   "outputs": [
    {
     "name": "stdout",
     "output_type": "stream",
     "text": [
      "Maria\n",
      "João\n",
      "Leonor\n"
     ]
    }
   ],
   "source": [
    "for name in names[0:3]:\n",
    "    print(name.upper().capitalize())"
   ]
  },
  {
   "cell_type": "markdown",
   "metadata": {},
   "source": [
    "#### 3- Merge the elements of the first list and the following into one with the same number of elements, print each element"
   ]
  },
  {
   "cell_type": "code",
   "execution_count": 4,
   "metadata": {},
   "outputs": [],
   "source": [
    "ages = [21,24,27,30,33,36,39,42,60,70,30]"
   ]
  },
  {
   "cell_type": "code",
   "execution_count": 5,
   "metadata": {},
   "outputs": [
    {
     "name": "stdout",
     "output_type": "stream",
     "text": [
      "maria21\n",
      "joão24\n",
      "leonor27\n",
      "francisco30\n",
      "matilde33\n",
      "santiago36\n",
      "ana39\n",
      "diogo42\n"
     ]
    }
   ],
   "source": [
    "namesandages = []\n",
    "\n",
    "for numbers, values in enumerate(ages):\n",
    "    if numbers < len(names):\n",
    "        output = names[numbers]+str(ages[numbers])\n",
    "        print(output)\n",
    "        namesandages.append(output)"
   ]
  },
  {
   "cell_type": "markdown",
   "metadata": {},
   "source": [
    "#### 4-  Using the previous output, remove the first 2 letters of each string and multiply the digits by 2"
   ]
  },
  {
   "cell_type": "code",
   "execution_count": 6,
   "metadata": {},
   "outputs": [
    {
     "name": "stdout",
     "output_type": "stream",
     "text": [
      "ria42\n",
      "ão48\n",
      "onor54\n",
      "ancisco60\n",
      "tilde66\n",
      "ntiago72\n",
      "a78\n",
      "ogo84\n"
     ]
    }
   ],
   "source": [
    "for values in namesandages:\n",
    "    print(values[2:-2]+str(int(values[-2:])*2))"
   ]
  },
  {
   "cell_type": "markdown",
   "metadata": {},
   "source": [
    "#### 5-  Using the following list, exclude all the elements with the name leonor and age 42"
   ]
  },
  {
   "cell_type": "code",
   "execution_count": 7,
   "metadata": {},
   "outputs": [],
   "source": [
    "newlist = ['maria21','joão24','leonor27','francisco30','matilde33','santiago36','ana39','diogo42']"
   ]
  },
  {
   "cell_type": "code",
   "execution_count": 8,
   "metadata": {},
   "outputs": [
    {
     "data": {
      "text/plain": [
       "['maria21', 'joão24', 'francisco30', 'matilde33', 'santiago36', 'ana39']"
      ]
     },
     "execution_count": 8,
     "metadata": {},
     "output_type": "execute_result"
    }
   ],
   "source": [
    "i = 0\n",
    "while i < len(newlist):\n",
    "    if (('leonor' in newlist[i]) | ('42' in newlist[i])):\n",
    "        newlist.remove(newlist[i])\n",
    "    i += 1\n",
    "\n",
    "newlist"
   ]
  }
 ],
 "metadata": {
  "kernelspec": {
   "display_name": "Python 3",
   "language": "python",
   "name": "python3"
  },
  "language_info": {
   "codemirror_mode": {
    "name": "ipython",
    "version": 3
   },
   "file_extension": ".py",
   "mimetype": "text/x-python",
   "name": "python",
   "nbconvert_exporter": "python",
   "pygments_lexer": "ipython3",
   "version": "3.7.0"
  }
 },
 "nbformat": 4,
 "nbformat_minor": 2
}
